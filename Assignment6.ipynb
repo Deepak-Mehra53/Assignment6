{
 "cells": [
  {
   "cell_type": "code",
   "execution_count": 5,
   "id": "588ef8ab-7b86-41a6-b277-88411a3beac2",
   "metadata": {},
   "outputs": [
    {
     "name": "stdout",
     "output_type": "stream",
     "text": [
      "Name= Seplender\n",
      "Model 2019\n"
     ]
    }
   ],
   "source": [
    "'''Q1. Explain Class and Object with respect to Object-Oriented Programming. Give a suitable example.\n",
    "Ans:- Class:- A class is a collection of objects. \n",
    "              A class contains the blueprints or the prototype from which the objects are being created. \n",
    "              It is a logical entity that contains some attributes and methods. \n",
    "              \n",
    "              \n",
    "     Object :- An object is called an instance of a class. For example, suppose Bike is a class then we can create objects \n",
    "               like bike1, bike2, etc from the class. \n",
    "Example:- '''\n",
    "# Class Created\n",
    "class Bike:\n",
    "    def details(self, Name, Model):\n",
    "        self.name=Name\n",
    "        self.model=Model\n",
    "        \n",
    "    def display(self):\n",
    "        print(\"Name=\",self.name)\n",
    "        print(\"Model\",self.model)\n",
    "#object created of Bike class      \n",
    "b1=Bike()\n",
    "b1.details(\"Seplender\",2019)\n",
    "b1.display()"
   ]
  },
  {
   "cell_type": "code",
   "execution_count": null,
   "id": "08743510-6959-4096-b5a4-0c2affaa25a3",
   "metadata": {},
   "outputs": [],
   "source": [
    "'''Q2. Name the four pillars of OOPs.\n",
    "Ans:- 1 Encapsulation: Encapsulation is the concept of bundling the data (attributes) and the methods (functions) that operate on the data into \n",
    "     a single unit known as a class. It restricts direct access to some of the object's components and can prevent the accidental modification \n",
    "     of data.\n",
    "\n",
    "2 Abstraction: Abstraction is the process of simplifying complex systems by modeling classes based on the essential properties and behaviors \n",
    "             they share. It involves hiding the complex reality while exposing only the relevant features of an object.\n",
    "\n",
    "3 Inheritance: Inheritance is a mechanism that allows a class to inherit properties and behaviors from another class. \n",
    "             \n",
    "4 Polymorphism: Polymorphism allows objects of different classes to be treated as objects of a common base class. \n",
    "              It enables a single interface to represent different types of objects and allows a single method to have different \n",
    "              implementations.'''"
   ]
  },
  {
   "cell_type": "code",
   "execution_count": 7,
   "id": "670166cf-4a59-4dbd-a476-1f4a20d5b9c2",
   "metadata": {},
   "outputs": [
    {
     "name": "stdout",
     "output_type": "stream",
     "text": [
      "Name of Bike and Model is = Splender 2018\n"
     ]
    }
   ],
   "source": [
    "'''Q3. Explain why the __init__() function is used. Give a suitable example.\n",
    "Ans:-The __init__() function in Python is a special method that is automatically called when an object of a class is created.\n",
    "     It stands for \"initialize\" and is used to set up the initial state of an object by assigning  values to its attributes.\n",
    "\n",
    "Example:- '''\n",
    "\n",
    "class Bike:\n",
    "    def __init__(self,Name,Model):\n",
    "        self.name=Name\n",
    "        self.model=Model\n",
    "        print(\"Name of Bike and Model is =\",self.name,self.model)\n",
    "b1=Bike(\"Splender\",2018)"
   ]
  },
  {
   "cell_type": "code",
   "execution_count": null,
   "id": "57575cb2-40ab-431a-89ed-17841ec3efcb",
   "metadata": {},
   "outputs": [],
   "source": [
    "'''Q4. Why self is used in OOPs?\n",
    "Ans:- The self keyword is used to represent an instance (object) of the given class. \n",
    "      For example:- \n",
    "          cat1 = Cat('Andy', 2)\n",
    "          cat2 = Cat('Phoebe', 3)\n",
    "      the two Cat objects cat1 and cat2 have their own name and age attributes. If there was no self argument, the same class \n",
    "      couldn't hold the information for both these objects.\n",
    "\n",
    "      self allows access to the attributes and methods of each object in python. \n",
    "      This allows each object to have its own attributes and methods. Thus, even long before creating these objects, we reference the \n",
    "      objects as self while defining the class.'''\n"
   ]
  },
  {
   "cell_type": "code",
   "execution_count": 9,
   "id": "bbeff146-0a96-44ae-95d2-d82cbfd6556d",
   "metadata": {},
   "outputs": [
    {
     "name": "stdout",
     "output_type": "stream",
     "text": [
      "Dog Barks\n",
      "Animal Speak\n"
     ]
    }
   ],
   "source": [
    "'''Q5. What is inheritance? Give an example for each type of inheritance.\n",
    "Ans:-  Inheritance is a mechanism that allows a class to inherit properties and behaviors from another class. \n",
    "\n",
    "For Example:- '''\n",
    "\n",
    "# Single Inheritance:-\n",
    "\n",
    "class Animal:\n",
    "    def speak(self):\n",
    "        print(\"Animal Speak\")\n",
    "\n",
    "class Dog(Animal):\n",
    "    def bark(self):\n",
    "        print(\"Dog Barks\")\n",
    "        \n",
    "my_dog=Dog()\n",
    "my_dog.bark()\n",
    "my_dog.speak()"
   ]
  },
  {
   "cell_type": "code",
   "execution_count": 12,
   "id": "3df95af9-027e-4009-9a90-ad5871e879ac",
   "metadata": {},
   "outputs": [
    {
     "name": "stdout",
     "output_type": "stream",
     "text": [
      "Honda Manufacture Car and Bike both\n",
      "Hero is a Bike Company\n",
      "Maruti Suzuki is a car Company\n"
     ]
    }
   ],
   "source": [
    "# Multiple Inheritance:-\n",
    "\n",
    "class Vehicle:\n",
    "    def car(self):\n",
    "        print(\"Maruti Suzuki is a car Company\")\n",
    "\n",
    "class Bike:\n",
    "    def Hero(self):\n",
    "        print(\"Hero is a Bike Company\")\n",
    "\n",
    "class Car_Bike(Vehicle,Bike):\n",
    "    def Honda(self):\n",
    "        print(\"Honda Manufacture Car and Bike both\")\n",
    "\n",
    "b1=Car_Bike()\n",
    "b1.Honda()\n",
    "b1.Hero()\n",
    "b1.car()"
   ]
  },
  {
   "cell_type": "code",
   "execution_count": 14,
   "id": "deca170b-6265-450e-bc57-a0c1f6a53921",
   "metadata": {},
   "outputs": [
    {
     "name": "stdout",
     "output_type": "stream",
     "text": [
      "Maruti Suzuki is a Indian and Japanies Company\n",
      "Yamaha is a Japanies Bike Company\n",
      "Mahindra is a Indian Company\n"
     ]
    }
   ],
   "source": [
    "# Multilevel Inheritance:-\n",
    "\n",
    "class India:\n",
    "    def Car(self):\n",
    "        print(\"Mahindra is a Indian Company\")\n",
    "\n",
    "class Japan(India):\n",
    "    def Bike(self):\n",
    "        print(\"Yamaha is a Japanies Bike Company\")\n",
    "        \n",
    "class India_Japan(Japan):\n",
    "    def Maruti(self):\n",
    "        print(\"Maruti Suzuki is a Indian and Japanies Company\")\n",
    "        \n",
    "c1=India_Japan()\n",
    "c1.Maruti()\n",
    "c1.Bike()\n",
    "c1.Car()\n",
    "    "
   ]
  },
  {
   "cell_type": "code",
   "execution_count": 15,
   "id": "4f23697f-320e-4eda-8e3f-320371a514df",
   "metadata": {},
   "outputs": [
    {
     "name": "stdout",
     "output_type": "stream",
     "text": [
      "This function is in parent class.\n",
      "This function is in child 1.\n",
      "This function is in parent class.\n",
      "This function is in child 2.\n"
     ]
    }
   ],
   "source": [
    "# Hierarchical Inheritance:-\n",
    "\n",
    "class Parent:\n",
    "    def func1(self):\n",
    "        print(\"This function is in parent class.\")\n",
    "\n",
    "class Child1(Parent):\n",
    "    def func2(self):\n",
    "        print(\"This function is in child 1.\")\n",
    " \n",
    " \n",
    "class Child2(Parent):\n",
    "    def func3(self):\n",
    "        print(\"This function is in child 2.\")\n",
    " \n",
    " \n",
    "object1 = Child1()\n",
    "object2 = Child2()\n",
    "object1.func1()\n",
    "object1.func2()\n",
    "object2.func1()\n",
    "object2.func3()"
   ]
  },
  {
   "cell_type": "code",
   "execution_count": 16,
   "id": "f4f185c2-fc1c-4f46-af3d-e32d99b3c763",
   "metadata": {},
   "outputs": [
    {
     "name": "stdout",
     "output_type": "stream",
     "text": [
      "This function is in school.\n",
      "This function is in student 1. \n"
     ]
    }
   ],
   "source": [
    "# Hybrid Inheritance:-\n",
    "\n",
    "class School:\n",
    "    def func1(self):\n",
    "        print(\"This function is in school.\")\n",
    " \n",
    " \n",
    "class Student1(School):\n",
    "    def func2(self):\n",
    "        print(\"This function is in student 1. \")\n",
    " \n",
    " \n",
    "class Student2(School):\n",
    "    def func3(self):\n",
    "        print(\"This function is in student 2.\")\n",
    " \n",
    " \n",
    "class Student3(Student1, School):\n",
    "    def func4(self):\n",
    "        print(\"This function is in student 3.\")\n",
    " \n",
    " \n",
    "object = Student3()\n",
    "object.func1()\n",
    "object.func2()\n"
   ]
  },
  {
   "cell_type": "code",
   "execution_count": null,
   "id": "f0f81296-a1de-4813-be4a-cf4638bf5e8e",
   "metadata": {},
   "outputs": [],
   "source": []
  }
 ],
 "metadata": {
  "kernelspec": {
   "display_name": "Python 3 (ipykernel)",
   "language": "python",
   "name": "python3"
  },
  "language_info": {
   "codemirror_mode": {
    "name": "ipython",
    "version": 3
   },
   "file_extension": ".py",
   "mimetype": "text/x-python",
   "name": "python",
   "nbconvert_exporter": "python",
   "pygments_lexer": "ipython3",
   "version": "3.10.8"
  }
 },
 "nbformat": 4,
 "nbformat_minor": 5
}
